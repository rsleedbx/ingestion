{
 "cells": [
  {
   "cell_type": "code",
   "execution_count": null,
   "metadata": {},
   "outputs": [],
   "source": [
    "# Imports\n",
    "from pyspark.sql import SparkSession\n",
    "\n",
    "# Create SparkSession\n",
    "spark = SparkSession.builder \\\n",
    "           .appName('test') \\\n",
    "           .config(\"spark.jars\", \"/opt/stage/libs/mssql-jdbc-12.6.1.jre8.jar\") \\\n",
    "           .getOrCreate()\n"
   ]
  },
  {
   "cell_type": "code",
   "execution_count": null,
   "metadata": {},
   "outputs": [],
   "source": [
    "jdbcDF = spark.read \\\n",
    "    .format(\"jdbc\") \\\n",
    "    .option(\"url\", \"jdbc:sqlserver://localhost;database=robert_lee_databricks_com;encrypt=false;useBulkCopyForBatchInsert=true;\") \\\n",
    "    .option(\"query\", \"select * from ycsbsparse where ycsb_key=1\") \\\n",
    "    .option(\"user\", \"robert_lee_databricks_com\") \\\n",
    "    .option(\"password\", \"Passw0rd\") \\\n",
    "    .load()\n",
    "\n",
    "display(jdbcDF.show())"
   ]
  }
 ],
 "metadata": {
  "language_info": {
   "name": "python"
  }
 },
 "nbformat": 4,
 "nbformat_minor": 2
}
