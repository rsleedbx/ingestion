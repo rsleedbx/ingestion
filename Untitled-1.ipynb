{
 "cells": [
  {
   "cell_type": "markdown",
   "metadata": {},
   "source": [
    "## Purpose of Demo\n",
    "This demo environment is designed to help answer the following common questions:\n",
    "- How does Arcion work\n",
    "- How is the snapshot and realtime (CDC) performance\n",
    "- Can Arcion handle my capacity\n",
    "\n",
    "Customers should use pilot for:\n",
    "- Schema and data type validation\n",
    "- Tuning based on environmental factors\n",
    "- Data value conversion\n",
    "- HA and resilience testing \n",
    "  \n",
    "## Demo is a model to simplify complex environment\n",
    "\n",
    "The following the demo environment.\n",
    "```text\n",
    "  +--------Databricks Personal Compute Cluster--------------------------+  \n",
    "  |  +-----------+    +-----------+    +----------+     +------------+  |\n",
    "  |  |  Workload |    | Source DB |    |  Arcion  |     | Target DB  |  | \n",
    "  |  |           |    |           | <--|          |     |            |  |\n",
    "  |  |   YCSB    | -->| SQL Server|    | Notebook | --> | Databricks |  |\n",
    "  |  |           |    |           | -->|   CLI    |     |            |  |\n",
    "  |  +-----------+    +-----------+    +----------+     +------------+  |\n",
    "  +---------------------------------------------------------------------+\n",
    "```\n",
    "\n",
    "In the production, the following is expected separation.\n",
    "```text\n",
    "  +----------Customer Cloud---------+   F   +---- Databricks Serverless ------+  \n",
    "  |  +-----------+    +-----------+ |   I   | +----------+     +------------+ |\n",
    "  |  |  Workload |    | Source DB | |   R   | |  Arcion  |     | Target DB  | | \n",
    "  |  |           |    |           | | <-E-- | |          |     |            | |\n",
    "  |  |   YCSB    | -->| SQL Server| |   W   | | Notebook |  -->| Databricks | |\n",
    "  |  |           |    |           | | --A-> | |    UI    |     |            | |\n",
    "  |  +-----------+    +-----------+ |   L   | +----------+     +------------+ |  \n",
    "  +---------------------------------+   L   +---------------------------------+\n",
    "```\n",
    "\n",
    "## Schema \n",
    "\n",
    "- An arbitrary number of dense and sparse tables be defined.  \n",
    "- Each table can have defined number of fields.  \n",
    "- The amount of data in each field can be defined.  \n",
    "\n",
    "Dense tables have all fields populated to data to the max length of the field.\n",
    "Sparse tables fields are populated with NULLs.\n",
    "\n",
    "```text\n",
    "+-------+    +-------+  +--------+    +--------+\n",
    "| Dense |    | Dense |  | Sparse |    | Sparse | \n",
    "| Table | ...| Table |  | Table  | ...| Table  |\n",
    "|   1   |    |   n   |  |   1    |    |    n   |\n",
    "+-------+    +-------+  +--------+    +--------+\n",
    "```\n",
    "\n",
    "This allows one to model capacity and performance of \n",
    "- star schema\n",
    "- IOT data \n",
    "- big data\n",
    "\n",
    "## Workload\n",
    "\n",
    "YCSB does: \n",
    "- update only.\n",
    "- No inserts\n",
    "- No deletes."
   ]
  },
  {
   "cell_type": "markdown",
   "metadata": {},
   "source": [
    "## Install Arcion, YCSB and SQL Server"
   ]
  },
  {
   "cell_type": "code",
   "execution_count": 15,
   "metadata": {},
   "outputs": [
    {
     "name": "stdout",
     "output_type": "stream",
     "text": [
      "Defaulting to user installation because normal site-packages is not writeable\n",
      "Requirement already satisfied: ipywidgets in /home/rslee/.local/lib/python3.10/site-packages (8.1.1)\n",
      "Requirement already satisfied: comm>=0.1.3 in /home/rslee/.local/lib/python3.10/site-packages (from ipywidgets) (0.2.1)\n",
      "Requirement already satisfied: widgetsnbextension~=4.0.9 in /home/rslee/.local/lib/python3.10/site-packages (from ipywidgets) (4.0.9)\n",
      "Requirement already satisfied: ipython>=6.1.0 in /home/rslee/.local/lib/python3.10/site-packages (from ipywidgets) (8.21.0)\n",
      "Requirement already satisfied: jupyterlab-widgets~=3.0.9 in /home/rslee/.local/lib/python3.10/site-packages (from ipywidgets) (3.0.9)\n",
      "Requirement already satisfied: traitlets>=4.3.1 in /home/rslee/.local/lib/python3.10/site-packages (from ipywidgets) (5.14.1)\n",
      "Requirement already satisfied: jedi>=0.16 in /home/rslee/.local/lib/python3.10/site-packages (from ipython>=6.1.0->ipywidgets) (0.19.1)\n",
      "Requirement already satisfied: decorator in /usr/lib/python3/dist-packages (from ipython>=6.1.0->ipywidgets) (4.4.2)\n",
      "Requirement already satisfied: pygments>=2.4.0 in /home/rslee/.local/lib/python3.10/site-packages (from ipython>=6.1.0->ipywidgets) (2.17.2)\n",
      "Requirement already satisfied: prompt-toolkit<3.1.0,>=3.0.41 in /home/rslee/.local/lib/python3.10/site-packages (from ipython>=6.1.0->ipywidgets) (3.0.43)\n",
      "Requirement already satisfied: exceptiongroup in /home/rslee/.local/lib/python3.10/site-packages (from ipython>=6.1.0->ipywidgets) (1.2.0)\n",
      "Requirement already satisfied: stack-data in /home/rslee/.local/lib/python3.10/site-packages (from ipython>=6.1.0->ipywidgets) (0.6.3)\n",
      "Requirement already satisfied: pexpect>4.3 in /usr/lib/python3/dist-packages (from ipython>=6.1.0->ipywidgets) (4.8.0)\n",
      "Requirement already satisfied: matplotlib-inline in /home/rslee/.local/lib/python3.10/site-packages (from ipython>=6.1.0->ipywidgets) (0.1.6)\n",
      "Requirement already satisfied: parso<0.9.0,>=0.8.3 in /home/rslee/.local/lib/python3.10/site-packages (from jedi>=0.16->ipython>=6.1.0->ipywidgets) (0.8.3)\n",
      "Requirement already satisfied: wcwidth in /home/rslee/.local/lib/python3.10/site-packages (from prompt-toolkit<3.1.0,>=3.0.41->ipython>=6.1.0->ipywidgets) (0.2.13)\n",
      "Requirement already satisfied: asttokens>=2.1.0 in /home/rslee/.local/lib/python3.10/site-packages (from stack-data->ipython>=6.1.0->ipywidgets) (2.4.1)\n",
      "Requirement already satisfied: pure-eval in /home/rslee/.local/lib/python3.10/site-packages (from stack-data->ipython>=6.1.0->ipywidgets) (0.2.2)\n",
      "Requirement already satisfied: executing>=1.2.0 in /home/rslee/.local/lib/python3.10/site-packages (from stack-data->ipython>=6.1.0->ipywidgets) (2.0.1)\n",
      "Requirement already satisfied: six>=1.12.0 in /usr/lib/python3/dist-packages (from asttokens>=2.1.0->stack-data->ipython>=6.1.0->ipywidgets) (1.16.0)\n",
      "Note: you may need to restart the kernel to use updated packages.\n"
     ]
    }
   ],
   "source": [
    "# prep python env\n",
    "%pip install ipywidgets\n",
    "import subprocess\n",
    "import math"
   ]
  },
  {
   "cell_type": "code",
   "execution_count": 12,
   "metadata": {},
   "outputs": [
    {
     "name": "stdout",
     "output_type": "stream",
     "text": [
      "deltalake /opt/stage/libs/SparkJDBC42.jar found\n",
      "lakehouse  /opt/stage/libs/DatabricksJDBC42.jar found\n",
      "postgres  /opt/stage/libs/postgresql-42.7.1.jar found\n",
      "mariadb  /opt/stage/libs/mariadb-java-client-3.3.2.jar found\n",
      "oracle /opt/stage/libs/ojdbc8.jar found\n",
      "log4j /opt/stage/libs/log4j-1.2.17.jar found\n",
      "\n"
     ]
    },
    {
     "name": "stdout",
     "output_type": "stream",
     "text": [
      "arcion  /opt/stage/arcion/replicant-cli/bin/replicant found\n",
      "checking jar(s) in /opt/stage/arcion/24.01.25.1/replicant-cli/lib for updates\n",
      "checking jar(s) in /opt/stage/arcion/24.01.25.1/lib for updates\n",
      "checking jar(s) in /opt/stage/arcion/replicant-cli/lib for updates\n",
      "checking jar(s) in /opt/stage/arcion/replicate-cli-23.05.31.29/lib for updates\n",
      "checking jar(s) in /opt/stage/arcion/23.05.31.31/lib for updates\n",
      "checking jar(s) in /opt/stage/arcion/24.01.25.7/lib for updates\n",
      "checking jar(s) in /opt/stage/arcion/23.09.29.11/lib for updates\n",
      "\n",
      "YCSB  /opt/stage/ycsb/ycsb-jdbc-binding-0.18.0-SNAPSHOT  found\n",
      "numfmt found\n",
      "checking jar(s) in /opt/stage/ycsb/ycsb-jdbc-binding-0.18.0-SNAPSHOT/lib for updates\n",
      "\n",
      "sqlserver found\n",
      "\n"
     ]
    }
   ],
   "source": [
    "# install YCSB, Arcion, Database, JAR files\n",
    "print (subprocess.run(\"bin/download-jars.sh\",stdout=subprocess.PIPE).stdout.decode('utf-8'))\n",
    "print (subprocess.run(\"bin/install-arcion.sh\",stdout=subprocess.PIPE).stdout.decode('utf-8'))\n",
    "print (subprocess.run(\"bin/install-ycsb.sh\",stdout=subprocess.PIPE).stdout.decode('utf-8'))\n",
    "print (subprocess.run(\"bin/install-sqlserver.sh\",stdout=subprocess.PIPE).stdout.decode('utf-8'))"
   ]
  },
  {
   "cell_type": "code",
   "execution_count": 8,
   "metadata": {},
   "outputs": [],
   "source": [
    "# setup GUI elements\n",
    "from libpython.arcion_control import *    \n",
    "from libpython.ycsb_control import *    \n",
    "#show_arcion_config()\n",
    "#show_ycsb_config()\n",
    "\n",
    "repl_mode = widgets.Dropdown(options=['snapshot', 'real-time', 'full'],value='snapshot',\n",
    "    description='Replication:',\n",
    ")\n",
    "cdc_mode = widgets.Dropdown(options=['change', 'cdc'],value='change',\n",
    "    description='CDC Method:',\n",
    ")\n",
    "\n",
    "snapshot_threads = widgets.BoundedIntText(value=1,min=1,max=8,\n",
    "    description='Snapshot Threads:',\n",
    ")\n",
    "\n",
    "realtime_threads = widgets.BoundedIntText(value=1,min=1,max=8,\n",
    "    description='Real Time Threads:',\n",
    ")    \n",
    "\n",
    "delta_threads = widgets.BoundedIntText(value=1,min=1,max=8,\n",
    "    description='Delta Snapshot Threads:',\n",
    ")    \n",
    "\n",
    "\n",
    "sparse_cnt = widgets.BoundedIntText(value=1,min=1,max=100,\n",
    "    description='Table Cnt:',\n",
    ")\n",
    "sparse_fieldcount = widgets.BoundedIntText(value=50,min=0,max=9000,\n",
    "    description='# of Fields:',\n",
    ")\n",
    "sparse_fieldlength = widgets.BoundedIntText(value=10,min=1,max=1000,\n",
    "    description='Field Len:',\n",
    ")\n",
    "\n",
    "sparse_tps = widgets.BoundedIntText(value=1,min=0,max=1000,\n",
    "    description='TPS:',\n",
    ")\n",
    "sparse_threads = widgets.BoundedIntText(value=1,min=1,max=8,\n",
    "    description='Threads:',\n",
    ")\n",
    "sparse_recordcount = widgets.Text(value=\"1M\",\n",
    "    description='Rec Cnt:',\n",
    ")\n",
    "\n",
    "sparse_fillpct = widgets.IntRangeSlider(value=[0,0],min=0,max=100,step=1,\n",
    "    description='Fill Range:', orientation='horizontal', readout=False\n",
    ")\n",
    "\n",
    "dense_cnt = widgets.BoundedIntText(value=1,min=1,max=100,\n",
    "    description='Table Cnt:',\n",
    ")\n",
    "dense_fieldcount = widgets.BoundedIntText(value=10,min=0,max=9000,\n",
    "    description='# of Fields:',\n",
    ")\n",
    "dense_fieldlength = widgets.BoundedIntText(value=100,min=1,max=1000,\n",
    "    description='Field Len:',\n",
    ")\n",
    "dense_recordcount = widgets.Text(value=\"100K\",\n",
    "    description='Rec Cnt:',\n",
    ")\n",
    "\n",
    "dense_tps = widgets.BoundedIntText(value=1,min=0,max=1000,\n",
    "    description='TPS:',\n",
    ")\n",
    "dense_threads = widgets.BoundedIntText(value=1,min=1,max=8,\n",
    "    description='Threads:',\n",
    ")\n",
    "\n",
    "dense_fillpct = widgets.IntRangeSlider(value=[0,100],min=0,max=100,step=1,\n",
    "    description='Fill Range:', orientation='horizontal', readout=False\n",
    ")"
   ]
  },
  {
   "cell_type": "markdown",
   "metadata": {},
   "source": [
    "# Customize YCSB workload characteristics"
   ]
  },
  {
   "cell_type": "code",
   "execution_count": 9,
   "metadata": {},
   "outputs": [
    {
     "data": {
      "application/vnd.jupyter.widget-view+json": {
       "model_id": "4506b11757544105900693808876c5ed",
       "version_major": 2,
       "version_minor": 0
      },
      "text/plain": [
       "VBox(children=(HBox(children=(Label(value='Sparse'), BoundedIntText(value=1, description='Table Cnt:', min=1),…"
      ]
     },
     "execution_count": 9,
     "metadata": {},
     "output_type": "execute_result"
    }
   ],
   "source": [
    "# show YCSB Data Controls\n",
    "VBox([HBox([Label('Sparse'), sparse_cnt, sparse_fieldcount, sparse_fieldlength, sparse_recordcount, sparse_fillpct]),\n",
    "    HBox([Label('Dense'),  dense_cnt, dense_fieldcount, dense_fieldlength, dense_recordcount, dense_fillpct])])"
   ]
  },
  {
   "cell_type": "markdown",
   "metadata": {},
   "source": [
    "## Create SQL Server user, create and load YCSB data sets"
   ]
  },
  {
   "cell_type": "code",
   "execution_count": 14,
   "metadata": {},
   "outputs": [
    {
     "name": "stdout",
     "output_type": "stream",
     "text": [
      "dense=(30, 67)\n",
      "sparse=(0, 0)\n",
      "replicant\n",
      "24.01.25.1 24.01\n",
      "PATH=/opt/stage/bin/jsqsh-dist-3.0-SNAPSHOT/bin added\n",
      "Msg 15025, Level 16, State 1, Server ron, Line 2\n",
      "The server principal 'arcsrc' already exists.\n",
      "Msg 1801, Level 16, State 3, Server ron, Line 1\n",
      "Database 'arcsrc' already exists. Choose a different database name.\n",
      "Changed database context to 'arcsrc'.\n",
      "Msg 15023, Level 16, State 5, Server ron, Line 1\n",
      "User, group, or role 'arcsrc' already exists in the current database.\n",
      "Starting type=sparse inst=1\n",
      "Msg 2714, Level 16, State 6, Server ron, Line 2\n",
      "There is already an object named 'YCSBSPARSE' in the database.\n",
      "/home/rslee/github/dbx/ingestion/demo/sqlserver/config/03_ycsbsparse.sql\n",
      "inserting insertstart=0 insert ends at ycsb_key=9\n",
      "y_fillcount=\n",
      "/home/rslee/github/dbx/ingestion/demo/sqlserver/config/03_sparsetable.fmt\n",
      "data file to be purged /home/rslee/github/dbx/ingestion/demo/sqlserver/config/tmp.tXtvL97crl\n",
      "SQLState = S1002, NativeError = 0\n",
      "Error = [Microsoft][ODBC Driver 18 for SQL Server]Invalid Descriptor Index\n",
      "bcp log at /home/rslee/github/dbx/ingestion/demo/sqlserver/config/03_sparsetable.log\n",
      "Finished dense table 1\n",
      "Starting type=dense inst=1\n",
      "Msg 2714, Level 16, State 6, Server ron, Line 2\n",
      "There is already an object named 'YCSBDENSE' in the database.\n",
      "/home/rslee/github/dbx/ingestion/demo/sqlserver/config/03_ycsbdense.sql\n",
      "inserting insertstart=0 insert ends at ycsb_key=19\n",
      "y_fillcount=\n"
     ]
    },
    {
     "name": "stderr",
     "output_type": "stream",
     "text": [
      "+ bcp YCSBSPARSE in /home/rslee/github/dbx/ingestion/demo/sqlserver/config/tmp.tXtvL97crl -S 127.0.0.1,1433 -U arcsrc -P Passw0rd -u -d arcsrc -f /home/rslee/github/dbx/ingestion/demo/sqlserver/config/03_sparsetable.fmt -b 1\n",
      "+ tee /home/rslee/github/dbx/ingestion/demo/sqlserver/config/03_sparsetable.log\n",
      "\n",
      "real\t0m0.030s\n",
      "user\t0m0.006s\n",
      "sys\t0m0.005s\n",
      "+ set +x\n",
      "+ bcp YCSBDENSE in /home/rslee/github/dbx/ingestion/demo/sqlserver/config/tmp.4x4wGw3D3y -S 127.0.0.1,1433 -U arcsrc -P Passw0rd -u -d arcsrc -f /home/rslee/github/dbx/ingestion/demo/sqlserver/config/03_densetable.fmt -b 2\n",
      "+ tee /home/rslee/github/dbx/ingestion/demo/sqlserver/config/03_densetable.log\n",
      "\n",
      "real\t0m0.024s\n",
      "user\t0m0.003s\n",
      "sys\t0m0.008s\n",
      "+ set +x\n",
      "schema dump at /tmp/schema_dump.csv\n"
     ]
    },
    {
     "name": "stdout",
     "output_type": "stream",
     "text": [
      "/home/rslee/github/dbx/ingestion/demo/sqlserver/config/03_densetable.fmt\n",
      "data file to be purged /home/rslee/github/dbx/ingestion/demo/sqlserver/config/tmp.4x4wGw3D3y\n",
      "SQLState = S1002, NativeError = 0\n",
      "Error = [Microsoft][ODBC Driver 18 for SQL Server]Invalid Descriptor Index\n",
      "bcp log at /home/rslee/github/dbx/ingestion/demo/sqlserver/config/03_densetable.log\n",
      "Finished dense table 1\n"
     ]
    },
    {
     "name": "stderr",
     "output_type": "stream",
     "text": [
      "table count at /tmp/list_table_counts.csv\n"
     ]
    },
    {
     "data": {
      "text/plain": [
       "CompletedProcess(args='. ./demo/sqlserver/run-ycsb-sqlserver-source.sh; \\n    create_user;\\n    y_fieldcount=3 \\n    y_fieldlength=9  \\n    y_recordcount=10 \\n    y_fillstart=0      \\n    y_fillend=0      \\n    load_sparse_data_cnt 1;\\n    y_fieldcount=6 \\n    y_fieldlength=7 \\n    y_recordcount=20 \\n    y_fillstart=1      \\n    y_fillend=4      \\n    load_dense_data_cnt 1;\\n    dump_schema;\\n    list_table_counts', returncode=0)"
      ]
     },
     "execution_count": 14,
     "metadata": {},
     "output_type": "execute_result"
    }
   ],
   "source": [
    "print(f\"dense={dense_fillpct.value}\")\n",
    "print(f\"sparse={sparse_fillpct.value}\")\n",
    "\n",
    "# run load_sparse_data_cnt and load_dense_data_cnt \n",
    "subprocess.run(f\"\"\". ./demo/sqlserver/run-ycsb-sqlserver-source.sh; \n",
    "    create_user;\n",
    "    y_fieldcount={sparse_fieldcount.value} \n",
    "    y_fieldlength={sparse_fieldlength.value}  \n",
    "    y_recordcount={sparse_recordcount.value} \n",
    "    y_fillstart={math.ceil((sparse_fillpct.value[0] * sparse_fieldcount.value) / 100)}      \n",
    "    y_fillend={int((sparse_fillpct.value[1] * sparse_fieldcount.value) / 100)}      \n",
    "    load_sparse_data_cnt {sparse_cnt.value};\n",
    "    y_fieldcount={dense_fieldcount.value} \n",
    "    y_fieldlength={dense_fieldlength.value} \n",
    "    y_recordcount={dense_recordcount.value} \n",
    "    y_fillstart={math.ceil((dense_fillpct.value[0] * dense_fieldcount.value) / 100)}      \n",
    "    y_fillend={int((dense_fillpct.value[1] * dense_fieldcount.value) / 100)}      \n",
    "    load_dense_data_cnt {dense_cnt.value};\n",
    "    dump_schema;\n",
    "    list_table_counts\"\"\",\n",
    "    shell=True,executable=\"/usr/bin/bash\") \n"
   ]
  },
  {
   "cell_type": "code",
   "execution_count": null,
   "metadata": {},
   "outputs": [],
   "source": []
  },
  {
   "cell_type": "markdown",
   "metadata": {},
   "source": [
    "# Run YCSB and Arcion in the background"
   ]
  },
  {
   "cell_type": "markdown",
   "metadata": {},
   "source": [
    "## Start/Restart YCSB workload at 1 TPS\n",
    "YCSB update (workload A) controls for Dense and Sparse table groups separated. Each group has a separate control.  However, all of the tables in the group use the same controls.  \n",
    "1. Each table's TPS (throughput per second)\n",
    "   1. 0=fast as possible\n",
    "   2. 1=1 TPS\n",
    "   3. 10=10 TPS\n",
    "2. Each table's threads (concurrency) used to achieve the desired TPS."
   ]
  },
  {
   "cell_type": "code",
   "execution_count": 6,
   "metadata": {},
   "outputs": [
    {
     "data": {
      "application/vnd.jupyter.widget-view+json": {
       "model_id": "c79bc15af67e4845bdd1a9ffe7c38ca3",
       "version_major": 2,
       "version_minor": 0
      },
      "text/plain": [
       "VBox(children=(HBox(children=(Label(value='Sparse'), BoundedIntText(value=1, description='TPS:', max=1000), Bo…"
      ]
     },
     "execution_count": 6,
     "metadata": {},
     "output_type": "execute_result"
    }
   ],
   "source": [
    "# show YCSB run controls\n",
    "VBox([HBox([Label('Sparse'), sparse_tps, sparse_threads]), HBox([Label('Dense'),  dense_tps, dense_threads])])"
   ]
  },
  {
   "cell_type": "code",
   "execution_count": 17,
   "metadata": {},
   "outputs": [
    {
     "name": "stdout",
     "output_type": "stream",
     "text": [
      "replicant\n",
      "24.01.25.1 24.01\n",
      "PATH=/opt/stage/bin/jsqsh-dist-3.0-SNAPSHOT/bin added\n",
      "YCSBDENSE\n",
      "dense\n",
      "ycsb YCSBDENSE pid 880188\n",
      "ycsb YCSBDENSE log is at /home/rslee/github/dbx/ingestion/demo/sqlserver/logs/ycsb.YCSBDENSE.log\n",
      "ycsb YCSBDENSE can be killed with . ./demo/sqlserver/run-ycsb-sqlserver-source.sh; kill_ycsb)\n",
      "YCSBSPARSE\n",
      "sparse\n",
      "ycsb YCSBSPARSE pid 880195\n",
      "ycsb YCSBSPARSE log is at /home/rslee/github/dbx/ingestion/demo/sqlserver/logs/ycsb.YCSBSPARSE.log\n",
      "ycsb YCSBSPARSE can be killed with . ./demo/sqlserver/run-ycsb-sqlserver-source.sh; kill_ycsb)\n",
      "\n"
     ]
    }
   ],
   "source": [
    "# start/restart YCSB run\n",
    "print (subprocess.run(f\"\"\". ./demo/sqlserver/run-ycsb-sqlserver-source.sh; \n",
    "    kill_ycsb;\n",
    "    y_target_sparse={sparse_tps.value} y_target_dense={dense_tps.value} y_threads_sparse={sparse_threads.value} y_threads_dense={dense_threads.value} y_fieldcount_sparse={sparse_fieldcount.value} y_fieldcount_dense={dense_fieldcount.value} y_fieldlength_sparse={sparse_fieldlength.value} y_fieldlength_dense={dense_fieldlength.value} \n",
    "    start_ycsb;\"\"\",\n",
    "    shell=True,executable=\"/usr/bin/bash\",stdout=subprocess.PIPE).stdout.decode('utf-8'))"
   ]
  },
  {
   "cell_type": "markdown",
   "metadata": {},
   "source": [
    "## Start Arcion\n",
    "\n",
    "NOTE: Full mode does not work at this time.\n",
    "\n",
    "For SQL Server, change tracking, cdc are available for demo.  \n",
    "Performance is mainly controlled by the thread count by the extract and apply process. \n",
    "- [CDC YAML files](./demo/sqlserver/yaml/cdc/)\n",
    "- [Change Tracking YAML files](./demo/sqlserver/yaml/change/)"
   ]
  },
  {
   "cell_type": "code",
   "execution_count": 5,
   "metadata": {
    "tags": []
   },
   "outputs": [
    {
     "data": {
      "application/vnd.jupyter.widget-view+json": {
       "model_id": "9bd5eef2c46e4494955bb6cc176624d8",
       "version_major": 2,
       "version_minor": 0
      },
      "text/plain": [
       "VBox(children=(HBox(children=(Label(value='Arcion'), Dropdown(description='Replication:', options=('snapshot',…"
      ]
     },
     "execution_count": 5,
     "metadata": {},
     "output_type": "execute_result"
    }
   ],
   "source": [
    "# show Arcion controls\n",
    "VBox([\n",
    "      HBox([Label('Arcion'), repl_mode, cdc_mode]),\n",
    "      HBox([Label('Threads'), snapshot_threads, realtime_threads, delta_threads])\n",
    "      ])"
   ]
  },
  {
   "cell_type": "code",
   "execution_count": 19,
   "metadata": {},
   "outputs": [
    {
     "name": "stdout",
     "output_type": "stream",
     "text": [
      "change snapshot\n",
      "replicant\n",
      "24.01.25.1 24.01\n",
      "PATH=/opt/stage/bin/jsqsh-dist-3.0-SNAPSHOT/bin added\n",
      "/home/rslee/github/dbx/ingestion/demo/sqlserver\n",
      "enable change tracking on database arcsrc\n",
      "skip ALTER DATABASE arcsrc SET CHANGE_TRACKING = ON  (CHANGE_RETENTION = 2 DAYS, AUTO_CLEANUP = ON);\n",
      "skip ALTER TABLE replicate_io_audit_ddl ENABLE CHANGE_TRACKING;\n",
      "skip ALTER TABLE replicate_io_audit_tbl_cons ENABLE CHANGE_TRACKING;\n",
      "skip ALTER TABLE replicate_io_audit_tbl_schema ENABLE CHANGE_TRACKING;\n",
      "ALTER TABLE YCSBDENSE ENABLE CHANGE_TRACKING;\n",
      "ALTER TABLE YCSBSPARSE ENABLE CHANGE_TRACKING;\n",
      "replicant\n",
      "arcion pid 880422\n",
      "arcion log is at /home/rslee/github/dbx/ingestion/demo/sqlserver/logs/arcion.log\n",
      "arcion can be killed with . ./demo/sqlserver/run-ycsb-sqlserver-source.sh; kill_arcion)\n",
      "\n"
     ]
    }
   ],
   "source": [
    "# start/restart Arcion\n",
    "print (f\"\"\"{cdc_mode.value} {repl_mode.value}\"\"\")\n",
    "\n",
    "print (subprocess.run(f\"\"\". ./demo/sqlserver/run-ycsb-sqlserver-source.sh; \n",
    "    echo $PROG_DIR;\n",
    "    cd $PROG_DIR;\n",
    "    kill_arcion;\n",
    "    a_repltype={repl_mode.value} \n",
    "    SRCDB_SNAPSHOT_THREADS={snapshot_threads.value} \n",
    "    SRCDB_REALTIME_THREADS={realtime_threads.value} \n",
    "    SRCDB_DELTA={delta_threads.value}_THREADS\n",
    "    start_{cdc_mode.value}_arcion;\"\"\",\n",
    "    shell=True,executable=\"/usr/bin/bash\",stdout=subprocess.PIPE).stdout.decode('utf-8'))\n"
   ]
  },
  {
   "cell_type": "code",
   "execution_count": 20,
   "metadata": {},
   "outputs": [
    {
     "ename": "NameError",
     "evalue": "name 'spark' is not defined",
     "output_type": "error",
     "traceback": [
      "\u001b[0;31m---------------------------------------------------------------------------\u001b[0m",
      "\u001b[0;31mNameError\u001b[0m                                 Traceback (most recent call last)",
      "Cell \u001b[0;32mIn[20], line 1\u001b[0m\n\u001b[0;32m----> 1\u001b[0m cluster_id \u001b[38;5;241m=\u001b[39m \u001b[43mspark\u001b[49m\u001b[38;5;241m.\u001b[39mconf\u001b[38;5;241m.\u001b[39mget(\u001b[38;5;124m\"\u001b[39m\u001b[38;5;124mspark.databricks.clusterUsageTags.clusterId\u001b[39m\u001b[38;5;124m\"\u001b[39m)\n\u001b[1;32m      3\u001b[0m workspace_id \u001b[38;5;241m=\u001b[39mspark\u001b[38;5;241m.\u001b[39mconf\u001b[38;5;241m.\u001b[39mget(\u001b[38;5;124m\"\u001b[39m\u001b[38;5;124mspark.databricks.clusterUsageTags.clusterOwnerOrgId\u001b[39m\u001b[38;5;124m\"\u001b[39m)\n\u001b[1;32m      5\u001b[0m \u001b[38;5;66;03m# clusterName = spark.conf.get(\"spark.databricks.clusterUsageTags.clusterName\")\u001b[39;00m\n",
      "\u001b[0;31mNameError\u001b[0m: name 'spark' is not defined"
     ]
    }
   ],
   "source": [
    "\n",
    "cluster_id = spark.conf.get(\"spark.databricks.clusterUsageTags.clusterId\")\n",
    "\n",
    "workspace_id =spark.conf.get(\"spark.databricks.clusterUsageTags.clusterOwnerOrgId\")\n",
    "\n",
    "# clusterName = spark.conf.get(\"spark.databricks.clusterUsageTags.clusterName\")\n",
    "\n",
    "workspaceUrl = spark.conf.get(\"spark.databricks.workspaceUrl\") # host name\n",
    "\n",
    "http_path = f\"sql/protocolv1/o/{workspace_id}/{cluster_id}\"\n",
    "\n",
    "spark_url=f\"jdbc:spark://{workspaceUrl}:443/default;transportMode=http;ssl=1;httpPath={http_path};AuthMech=3\"\n",
    "databricks_url=f\"jdbc:databricks://{workspaceUrl}:443/default;transportMode=http;ssl=1;httpPath={http_path};AuthMech=3\""
   ]
  }
 ],
 "metadata": {
  "kernelspec": {
   "display_name": "Python 3",
   "language": "python",
   "name": "python3"
  },
  "language_info": {
   "codemirror_mode": {
    "name": "ipython",
    "version": 3
   },
   "file_extension": ".py",
   "mimetype": "text/x-python",
   "name": "python",
   "nbconvert_exporter": "python",
   "pygments_lexer": "ipython3",
   "version": "3.10.12"
  }
 },
 "nbformat": 4,
 "nbformat_minor": 2
}
