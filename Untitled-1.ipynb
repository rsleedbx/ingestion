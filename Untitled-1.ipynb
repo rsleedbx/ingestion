{
 "cells": [
  {
   "cell_type": "markdown",
   "metadata": {},
   "source": [
    "Install Arcion, YCSB and SQL Server"
   ]
  },
  {
   "cell_type": "code",
   "execution_count": 1,
   "metadata": {},
   "outputs": [
    {
     "name": "stdout",
     "output_type": "stream",
     "text": [
      "sqlserver found\n",
      "\n"
     ]
    }
   ],
   "source": [
    "import subprocess\n",
    "#print (subprocess.run(\"bin/download-jars.sh\",stdout=subprocess.PIPE).stdout.decode('utf-8'))\n",
    "#print (subprocess.run(\"bin/install-arcion.sh\",stdout=subprocess.PIPE).stdout.decode('utf-8'))\n",
    "#print (subprocess.run(\"bin/install-ycsb.sh\",stdout=subprocess.PIPE).stdout.decode('utf-8'))\n",
    "#print (subprocess.run(\"bin/install-sqlserver.sh\",stdout=subprocess.PIPE).stdout.decode('utf-8'))"
   ]
  },
  {
   "cell_type": "markdown",
   "metadata": {},
   "source": [
    "Create SQL Server user, create and load YCSB data sets"
   ]
  },
  {
   "cell_type": "code",
   "execution_count": null,
   "metadata": {},
   "outputs": [],
   "source": [
    "import subprocess\n",
    "print (subprocess.run(\"\"\". ./demo/sqlserver/run-ycsb-sqlserver-source.sh; \n",
    "    create_user;\n",
    "    load_dense_data;\n",
    "    load_sparse_data\"\"\",\n",
    "    shell=True,executable=\"/usr/bin/bash\",stdout=subprocess.PIPE).stdout.decode('utf-8'))\n"
   ]
  },
  {
   "cell_type": "markdown",
   "metadata": {},
   "source": [
    "Run YCSB workload at 1 TPS"
   ]
  },
  {
   "cell_type": "code",
   "execution_count": 2,
   "metadata": {},
   "outputs": [
    {
     "name": "stdout",
     "output_type": "stream",
     "text": [
      "replicant\n",
      "24.01.25.1 24.01\n",
      "PATH=/opt/stage/bin/jsqsh-dist-3.0-SNAPSHOT/bin added\n",
      "ycsb pid 629406\n",
      "ycsb log is at /home/rslee/github/dbx/ingestion/demo/sqlserver/logs/ycsb.log\n",
      "ycsb can be killed with . ./demo/sqlserver/run-ycsb-sqlserver-source.sh; kill_recurse $(cat $PROG_DIR/logs/ycsb.pid)\n",
      "\n"
     ]
    }
   ],
   "source": [
    "import subprocess\n",
    "from libpython.utils import *\n",
    "\n",
    "# kill currently running ycsb.sh\n",
    "kill_ycsb_proc_tree()\n",
    "\n",
    "print (subprocess.run(\"\"\". ./demo/sqlserver/run-ycsb-sqlserver-source.sh; \n",
    "    start_ycsb;\"\"\",\n",
    "    shell=True,executable=\"/usr/bin/bash\",stdout=subprocess.PIPE).stdout.decode('utf-8'))"
   ]
  },
  {
   "cell_type": "markdown",
   "metadata": {},
   "source": [
    "Start Arcion"
   ]
  },
  {
   "cell_type": "code",
   "execution_count": 3,
   "metadata": {},
   "outputs": [
    {
     "name": "stdout",
     "output_type": "stream",
     "text": [
      "replicant\n",
      "24.01.25.1 24.01\n",
      "PATH=/opt/stage/bin/jsqsh-dist-3.0-SNAPSHOT/bin added\n",
      "/home/rslee/github/dbx/ingestion/demo/sqlserver\n",
      "replicant\n",
      "replicant\n",
      "arcion pid 629581\n",
      "arcion log is at /home/rslee/github/dbx/ingestion/demo/sqlserver/logs/arcion.log\n",
      "arcion can be killed with . ./demo/sqlserver/run-ycsb-sqlserver-source.sh; kill_recurse $(cat $PROG_DIR/logs/arcion.pid)\n",
      "\n"
     ]
    }
   ],
   "source": [
    "import subprocess\n",
    "from libpython.utils import *\n",
    "\n",
    "# kill currently running arcion\n",
    "kill_arcion_proc_tree()\n",
    "\n",
    "print (subprocess.run(\"\"\". ./demo/sqlserver/run-ycsb-sqlserver-source.sh; \n",
    "    echo $PROG_DIR;\n",
    "    cd ${PROG_DIR};\n",
    "    start_change_tracking_arcion real-time;\"\"\",\n",
    "    shell=True,executable=\"/usr/bin/bash\",stdout=subprocess.PIPE).stdout.decode('utf-8'))\n"
   ]
  },
  {
   "cell_type": "code",
   "execution_count": 22,
   "metadata": {},
   "outputs": [
    {
     "name": "stdout",
     "output_type": "stream",
     "text": [
      "Killing 629581 {'username': 'rslee', 'name': 'sh', 'cmdline': ['sh', '/opt/stage/arcion/24.01.25.1/bin/replicant', 'real-time', 'config/src.yaml', 'config/dst.yaml', '--general', 'config/general.yaml', '--extractor', 'config/extractor.yaml', '--filter', 'config/filter.yaml', '--applier', 'config/applier.yaml', '--overwrite', '--id', '629497', '--replace']}\n"
     ]
    }
   ],
   "source": [
    "from libpython.utils import *\n",
    "\n",
    "for p in psutil.process_iter(['name', 'username', \"cmdline\"]):\n",
    "    if p.info['username'] == getpass.getuser(): # and p.info['cmdline'][1].endswith('replicant'):\n",
    "        try:\n",
    "            if p.info[\"cmdline\"][1].endswith(\"replicant\"):\n",
    "                print(f\"Killing {p.pid} {p.info}\")\n",
    "                kill_proc_tree(p.pid)\n",
    "        except:\n",
    "            pass"
   ]
  }
 ],
 "metadata": {
  "kernelspec": {
   "display_name": "Python 3",
   "language": "python",
   "name": "python3"
  },
  "language_info": {
   "codemirror_mode": {
    "name": "ipython",
    "version": 3
   },
   "file_extension": ".py",
   "mimetype": "text/x-python",
   "name": "python",
   "nbconvert_exporter": "python",
   "pygments_lexer": "ipython3",
   "version": "3.10.12"
  }
 },
 "nbformat": 4,
 "nbformat_minor": 2
}
