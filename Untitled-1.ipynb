{
 "cells": [
  {
   "cell_type": "markdown",
   "metadata": {},
   "source": [
    "Install Arcion, YCSB and SQL Server"
   ]
  },
  {
   "cell_type": "code",
   "execution_count": 1,
   "metadata": {},
   "outputs": [
    {
     "name": "stdout",
     "output_type": "stream",
     "text": [
      "sqlserver found\n",
      "\n"
     ]
    }
   ],
   "source": [
    "import subprocess\n",
    "#print (subprocess.run(\"bin/download-jars.sh\",stdout=subprocess.PIPE).stdout.decode('utf-8'))\n",
    "#print (subprocess.run(\"bin/install-arcion.sh\",stdout=subprocess.PIPE).stdout.decode('utf-8'))\n",
    "#print (subprocess.run(\"bin/install-ycsb.sh\",stdout=subprocess.PIPE).stdout.decode('utf-8'))\n",
    "#print (subprocess.run(\"bin/install-sqlserver.sh\",stdout=subprocess.PIPE).stdout.decode('utf-8'))"
   ]
  },
  {
   "cell_type": "markdown",
   "metadata": {},
   "source": [
    "Create SQL Server user, create and load YCSB data sets"
   ]
  },
  {
   "cell_type": "code",
   "execution_count": null,
   "metadata": {},
   "outputs": [],
   "source": [
    "import subprocess\n",
    "print (subprocess.run(\"\"\". ./demo/sqlserver/run-ycsb-sqlserver-source.sh; \n",
    "    create_user;\n",
    "    load_dense_data;\n",
    "    load_sparse_data\"\"\",\n",
    "    shell=True,executable=\"/usr/bin/bash\",stdout=subprocess.PIPE).stdout.decode('utf-8'))\n"
   ]
  },
  {
   "cell_type": "markdown",
   "metadata": {},
   "source": [
    "Run YCSB workload at 1 TPS"
   ]
  },
  {
   "cell_type": "code",
   "execution_count": 28,
   "metadata": {},
   "outputs": [],
   "source": [
    "import os\n",
    "import signal\n",
    "import psutil\n",
    "def kill_proc_tree(pid, sig=signal.SIGTERM, include_parent=True,\n",
    "                   timeout=None, on_terminate=None):\n",
    "    \"\"\"Kill a process tree (including grandchildren) with signal\n",
    "    \"sig\" and return a (gone, still_alive) tuple.\n",
    "    \"on_terminate\", if specified, is a callback function which is\n",
    "    called as soon as a child terminates.\n",
    "    \"\"\"\n",
    "    assert pid != os.getpid(), \"won't kill myself\"\n",
    "    parent = psutil.Process(pid)\n",
    "    children = parent.children(recursive=True)\n",
    "    if include_parent:\n",
    "        children.append(parent)\n",
    "    for p in children:\n",
    "        try:\n",
    "            p.send_signal(sig)\n",
    "        except psutil.NoSuchProcess:\n",
    "            pass\n",
    "    gone, alive = psutil.wait_procs(children, timeout=timeout,\n",
    "                                    callback=on_terminate)\n",
    "    for p in alive:\n",
    "        p.kill()\n",
    "\n",
    "def kill_named_proc_tree(name):\n",
    "    for p in psutil.process_iter(['name', 'username']):\n",
    "        if p.info['username'] == getpass.getuser() and p.info['name'] == 'ycsb.sh':\n",
    "            print(f\"Killing {p.pid} {p.info['name']}\")\n",
    "            kill_proc_tree(p.pid)\n",
    "\n",
    "def kill_ycsb_proc_tree(name=\"ycsb.sh\"):\n",
    "    kill_named_proc_tree(name=name)\n",
    "\n",
    "def kill_arcion_proc_tree(name=\"replicant\"):\n",
    "    kill_named_proc_tree(name=name)"
   ]
  },
  {
   "cell_type": "code",
   "execution_count": 16,
   "metadata": {},
   "outputs": [
    {
     "name": "stdout",
     "output_type": "stream",
     "text": [
      "Killing 607374 ycsb.sh\n",
      "replicant\n",
      "24.01.25.1 24.01\n",
      "PATH=/opt/stage/bin/jsqsh-dist-3.0-SNAPSHOT/bin added\n",
      "ycsb pid 607524\n",
      "ycsb log is at /home/rslee/github/dbx/ingestion/demo/sqlserver/logs/ycsb.log\n",
      "ycsb can be killed with . ./demo/sqlserver/run-ycsb-sqlserver-source.sh; kill_recurse $(cat $PROG_DIR/logs/ycsb.pid)\n",
      "\n"
     ]
    }
   ],
   "source": [
    "import subprocess\n",
    "from pathlib import Path\n",
    "import psutil\n",
    "\n",
    "# kill currently running ycsb.sh\n",
    "kill_ycsb_proc_tree()\n",
    "\n",
    "print (subprocess.run(\"\"\". ./demo/sqlserver/run-ycsb-sqlserver-source.sh; \n",
    "    start_ycsb;\"\"\",\n",
    "    shell=True,executable=\"/usr/bin/bash\",stdout=subprocess.PIPE).stdout.decode('utf-8'))"
   ]
  },
  {
   "cell_type": "code",
   "execution_count": 29,
   "metadata": {},
   "outputs": [
    {
     "name": "stderr",
     "output_type": "stream",
     "text": [
      "++ heredoc_file ./yaml/change_tracking/src.yaml\n",
      "++ echo config/src.yaml\n",
      "+++ echo -e '#!/usr/bin/env bash\\ncat << EOF_EOF_EOF'\n",
      "+++ cat - ./yaml/change_tracking/src.yaml /dev/fd/63\n",
      "++++ echo -e '\\nEOF_EOF_EOF'\n",
      "++ eval '#!/usr/bin/env bash\n",
      "cat << EOF_EOF_EOF\n",
      "type: SQLSERVER\n",
      "host: '\\''${SRCDB_HOST}'\\''\n",
      "port: ${SRCDB_PORT}\n",
      "username: '\\''${SRCDB_ARC_USER}'\\''\n",
      "password: '\\''${SRCDB_ARC_PW}'\\''\n",
      "database: '\\''${SRCDB_ARC_USER}'\\''\n",
      "max-connections: 5\n",
      "max-retries: 1\n",
      "extractor: CHANGE # {CHANGE|CDC|LOG}\n",
      "EOF_EOF_EOF'\n",
      "+++ cat\n",
      "++ heredoc_file ./yaml/change_tracking/dst_null.yaml\n",
      "++ echo config/dst.yaml\n",
      "+++ echo -e '#!/usr/bin/env bash\\ncat << EOF_EOF_EOF'\n",
      "+++ cat - ./yaml/change_tracking/dst_null.yaml /dev/fd/63\n",
      "++++ echo -e '\\nEOF_EOF_EOF'\n",
      "++ eval '#!/usr/bin/env bash\n",
      "cat << EOF_EOF_EOF\n",
      "\n",
      "type: NULLSTORAGE\n",
      "storage-location: $(pwd)/temp # schema and YAML files are written here\n",
      "\n",
      "\n",
      "EOF_EOF_EOF'\n",
      "+++ cat\n",
      "++++ pwd\n",
      "++ heredoc_file ./yaml/change_tracking/general.yaml\n",
      "++ echo config/general.yaml\n",
      "+++ echo -e '#!/usr/bin/env bash\\ncat << EOF_EOF_EOF'\n",
      "+++ cat - ./yaml/change_tracking/general.yaml /dev/fd/63\n",
      "++++ echo -e '\\nEOF_EOF_EOF'\n",
      "++ eval '#!/usr/bin/env bash\n",
      "cat << EOF_EOF_EOF\n",
      "license-path: /opt/stage/libs/replicant.lic\n",
      "data-dir: $(pwd)/logs\n",
      "permission-validation: \n",
      "  enable: false\n",
      "#trace-log: #trace-log avail starting 23-05-31\n",
      "#  trace-level: INFO\n",
      "\n",
      "\n",
      "EOF_EOF_EOF'\n",
      "+++ cat\n",
      "++++ pwd\n",
      "++ heredoc_file ./yaml/change_tracking/extractor.yaml\n",
      "++ echo config/extractor.yaml\n",
      "+++ echo -e '#!/usr/bin/env bash\\ncat << EOF_EOF_EOF'\n",
      "+++ cat - ./yaml/change_tracking/extractor.yaml /dev/fd/63\n",
      "++++ echo -e '\\nEOF_EOF_EOF'\n",
      "++ eval '#!/usr/bin/env bash\n",
      "cat << EOF_EOF_EOF\n",
      "snapshot:\n",
      "  threads: ${SRCDB_SNAPSHOT_THREADS}\n",
      "  _traceDBTasks: true\n",
      "  fetch-user-roles: false\n",
      "  _fetch-exact-row-count: false    \n",
      "    \n",
      "  min-job-size-rows: 100_000 # default 1_000_000 is too large for purposes demo\n",
      "  ddl-replication:\n",
      "    enable: true\n",
      "\n",
      "realtime:\n",
      "  threads: ${SRCDB_REALTIME_THREADS}\n",
      "  _traceDBTasks: true\n",
      "  # enable DDL replication\n",
      "  ddl-replication:\n",
      "    enable: true\n",
      "    catalog: ${SRCDB_DB}\n",
      "    schema:  ${SRCDB_SCHEMA}\n",
      "    detect-ddl-interval: 1   # default 600 is too long for demo wait\n",
      "    ddl-replication-mode: INLINE # Default is REINIT mode. [REINIT|INLINE]\n",
      "  # replicate_io_cdc_heartbeat table at ${SRCDB_ARC_USER} database instead of default io_replication \n",
      "  heartbeat:\n",
      "    enable: false\n",
      "    catalog: ${SRCDB_DB}\n",
      "    schema: ${SRCDB_SCHEMA}\n",
      "    table-name : REPLICATE_IO_CDC_HEARTBEAT\n",
      "\n",
      "\n",
      "EOF_EOF_EOF'\n",
      "+++ cat\n",
      "++ heredoc_file ./yaml/change_tracking/filter.yaml\n",
      "++ echo config/filter.yaml\n",
      "+++ echo -e '#!/usr/bin/env bash\\ncat << EOF_EOF_EOF'\n",
      "+++ cat - ./yaml/change_tracking/filter.yaml /dev/fd/63\n",
      "++++ echo -e '\\nEOF_EOF_EOF'\n",
      "++ eval '#!/usr/bin/env bash\n",
      "cat << EOF_EOF_EOF\n",
      "allow:\n",
      "- catalog: ${SRCDB_DB}\n",
      "  schema: ${SRCDB_SCHEMA}\n",
      "  types: [TABLE]\n",
      "  allow:\n",
      "  block: [replicate_io_audit_ddl, replicate_io_audit_tbl_schema, replicate_io_audit_tbl_cons, REPLICATE_IO_CDC_HEARTBEAT, ]\n",
      "\n",
      "\n",
      "\n",
      "EOF_EOF_EOF'\n",
      "+++ cat\n",
      "++ heredoc_file ./yaml/change_tracking/applier_null.yaml\n",
      "++ echo config/applier.yaml\n",
      "+++ echo -e '#!/usr/bin/env bash\\ncat << EOF_EOF_EOF'\n",
      "+++ cat - ./yaml/change_tracking/applier_null.yaml /dev/fd/63\n",
      "++++ echo -e '\\nEOF_EOF_EOF'\n",
      "++ eval '#!/usr/bin/env bash\n",
      "cat << EOF_EOF_EOF\n",
      "\n",
      "snapshot:\n",
      "  threads: 1\n",
      "  skip-tables-on-failures : true\n",
      "  _traceDBTasks: true\n",
      "realtime:\n",
      "  threads: 1\n",
      "  skip-tables-on-failures : true\n",
      "  txn-size-rows: 50_000 # default=5k too small for YCSB high TPS\n",
      "\n",
      "\n",
      "EOF_EOF_EOF'\n",
      "+++ cat\n",
      "+ /opt/stage/arcion/24.01.25.1/bin/replicant real-time config/src.yaml config/dst.yaml --general config/general.yaml --extractor config/extractor.yaml --filter config/filter.yaml --applier config/applier.yaml --overwrite --id 620441 --replace\n",
      "openjdk version \"1.8.0_392\"\n",
      "OpenJDK Runtime Environment (build 1.8.0_392-8u392-ga-1~22.04-b08)\n",
      "OpenJDK 64-Bit Server VM (build 25.392-b08, mixed mode)\n"
     ]
    },
    {
     "ename": "KeyboardInterrupt",
     "evalue": "",
     "output_type": "error",
     "traceback": [
      "\u001b[0;31m---------------------------------------------------------------------------\u001b[0m",
      "\u001b[0;31mKeyboardInterrupt\u001b[0m                         Traceback (most recent call last)",
      "Cell \u001b[0;32mIn[29], line 5\u001b[0m\n\u001b[1;32m      1\u001b[0m \u001b[38;5;28;01mimport\u001b[39;00m \u001b[38;5;21;01msubprocess\u001b[39;00m\n\u001b[1;32m      3\u001b[0m kill_arcion_proc_tree\n\u001b[0;32m----> 5\u001b[0m \u001b[38;5;28mprint\u001b[39m (\u001b[43msubprocess\u001b[49m\u001b[38;5;241;43m.\u001b[39;49m\u001b[43mrun\u001b[49m\u001b[43m(\u001b[49m\u001b[38;5;124;43m\"\"\"\u001b[39;49m\u001b[38;5;124;43m. ./demo/sqlserver/run-ycsb-sqlserver-source.sh; \u001b[39;49m\n\u001b[1;32m      6\u001b[0m \u001b[38;5;124;43m    echo $PROG_DIR;\u001b[39;49m\n\u001b[1;32m      7\u001b[0m \u001b[38;5;124;43m    cd $\u001b[39;49m\u001b[38;5;132;43;01m{PROG_DIR}\u001b[39;49;00m\u001b[38;5;124;43m;\u001b[39;49m\n\u001b[1;32m      8\u001b[0m \u001b[38;5;124;43m    start_arcion real-time;\u001b[39;49m\u001b[38;5;124;43m\"\"\"\u001b[39;49m\u001b[43m,\u001b[49m\n\u001b[1;32m      9\u001b[0m \u001b[43m    \u001b[49m\u001b[43mshell\u001b[49m\u001b[38;5;241;43m=\u001b[39;49m\u001b[38;5;28;43;01mTrue\u001b[39;49;00m\u001b[43m,\u001b[49m\u001b[43mexecutable\u001b[49m\u001b[38;5;241;43m=\u001b[39;49m\u001b[38;5;124;43m\"\u001b[39;49m\u001b[38;5;124;43m/usr/bin/bash\u001b[39;49m\u001b[38;5;124;43m\"\u001b[39;49m\u001b[43m,\u001b[49m\u001b[43mstdout\u001b[49m\u001b[38;5;241;43m=\u001b[39;49m\u001b[43msubprocess\u001b[49m\u001b[38;5;241;43m.\u001b[39;49m\u001b[43mPIPE\u001b[49m\u001b[43m)\u001b[49m\u001b[38;5;241m.\u001b[39mstdout\u001b[38;5;241m.\u001b[39mdecode(\u001b[38;5;124m'\u001b[39m\u001b[38;5;124mutf-8\u001b[39m\u001b[38;5;124m'\u001b[39m))\n",
      "File \u001b[0;32m/usr/lib/python3.10/subprocess.py:505\u001b[0m, in \u001b[0;36mrun\u001b[0;34m(input, capture_output, timeout, check, *popenargs, **kwargs)\u001b[0m\n\u001b[1;32m    503\u001b[0m \u001b[38;5;28;01mwith\u001b[39;00m Popen(\u001b[38;5;241m*\u001b[39mpopenargs, \u001b[38;5;241m*\u001b[39m\u001b[38;5;241m*\u001b[39mkwargs) \u001b[38;5;28;01mas\u001b[39;00m process:\n\u001b[1;32m    504\u001b[0m     \u001b[38;5;28;01mtry\u001b[39;00m:\n\u001b[0;32m--> 505\u001b[0m         stdout, stderr \u001b[38;5;241m=\u001b[39m \u001b[43mprocess\u001b[49m\u001b[38;5;241;43m.\u001b[39;49m\u001b[43mcommunicate\u001b[49m\u001b[43m(\u001b[49m\u001b[38;5;28;43minput\u001b[39;49m\u001b[43m,\u001b[49m\u001b[43m \u001b[49m\u001b[43mtimeout\u001b[49m\u001b[38;5;241;43m=\u001b[39;49m\u001b[43mtimeout\u001b[49m\u001b[43m)\u001b[49m\n\u001b[1;32m    506\u001b[0m     \u001b[38;5;28;01mexcept\u001b[39;00m TimeoutExpired \u001b[38;5;28;01mas\u001b[39;00m exc:\n\u001b[1;32m    507\u001b[0m         process\u001b[38;5;241m.\u001b[39mkill()\n",
      "File \u001b[0;32m/usr/lib/python3.10/subprocess.py:1141\u001b[0m, in \u001b[0;36mPopen.communicate\u001b[0;34m(self, input, timeout)\u001b[0m\n\u001b[1;32m   1139\u001b[0m     \u001b[38;5;28mself\u001b[39m\u001b[38;5;241m.\u001b[39m_stdin_write(\u001b[38;5;28minput\u001b[39m)\n\u001b[1;32m   1140\u001b[0m \u001b[38;5;28;01melif\u001b[39;00m \u001b[38;5;28mself\u001b[39m\u001b[38;5;241m.\u001b[39mstdout:\n\u001b[0;32m-> 1141\u001b[0m     stdout \u001b[38;5;241m=\u001b[39m \u001b[38;5;28;43mself\u001b[39;49m\u001b[38;5;241;43m.\u001b[39;49m\u001b[43mstdout\u001b[49m\u001b[38;5;241;43m.\u001b[39;49m\u001b[43mread\u001b[49m\u001b[43m(\u001b[49m\u001b[43m)\u001b[49m\n\u001b[1;32m   1142\u001b[0m     \u001b[38;5;28mself\u001b[39m\u001b[38;5;241m.\u001b[39mstdout\u001b[38;5;241m.\u001b[39mclose()\n\u001b[1;32m   1143\u001b[0m \u001b[38;5;28;01melif\u001b[39;00m \u001b[38;5;28mself\u001b[39m\u001b[38;5;241m.\u001b[39mstderr:\n",
      "\u001b[0;31mKeyboardInterrupt\u001b[0m: "
     ]
    }
   ],
   "source": [
    "import subprocess\n",
    "\n",
    "kill_arcion_proc_tree()\n",
    "\n",
    "print (subprocess.run(\"\"\". ./demo/sqlserver/run-ycsb-sqlserver-source.sh; \n",
    "    echo $PROG_DIR;\n",
    "    cd ${PROG_DIR};\n",
    "    start_arcion real-time;\"\"\",\n",
    "    shell=True,executable=\"/usr/bin/bash\",stdout=subprocess.PIPE).stdout.decode('utf-8'))\n"
   ]
  }
 ],
 "metadata": {
  "kernelspec": {
   "display_name": "Python 3",
   "language": "python",
   "name": "python3"
  },
  "language_info": {
   "codemirror_mode": {
    "name": "ipython",
    "version": 3
   },
   "file_extension": ".py",
   "mimetype": "text/x-python",
   "name": "python",
   "nbconvert_exporter": "python",
   "pygments_lexer": "ipython3",
   "version": "3.10.12"
  }
 },
 "nbformat": 4,
 "nbformat_minor": 2
}
