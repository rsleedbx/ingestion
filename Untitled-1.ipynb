{
 "cells": [
  {
   "cell_type": "markdown",
   "metadata": {},
   "source": [
    "# Install Arcion, YCSB and SQL Server"
   ]
  },
  {
   "cell_type": "code",
   "execution_count": 3,
   "metadata": {},
   "outputs": [
    {
     "name": "stdout",
     "output_type": "stream",
     "text": [
      "Defaulting to user installation because normal site-packages is not writeable\n",
      "Requirement already satisfied: ipywidgets in /home/rslee/.local/lib/python3.10/site-packages (8.1.1)\n",
      "Requirement already satisfied: widgetsnbextension~=4.0.9 in /home/rslee/.local/lib/python3.10/site-packages (from ipywidgets) (4.0.9)\n",
      "Requirement already satisfied: comm>=0.1.3 in /home/rslee/.local/lib/python3.10/site-packages (from ipywidgets) (0.2.1)\n",
      "Requirement already satisfied: ipython>=6.1.0 in /home/rslee/.local/lib/python3.10/site-packages (from ipywidgets) (8.21.0)\n",
      "Requirement already satisfied: jupyterlab-widgets~=3.0.9 in /home/rslee/.local/lib/python3.10/site-packages (from ipywidgets) (3.0.9)\n",
      "Requirement already satisfied: traitlets>=4.3.1 in /home/rslee/.local/lib/python3.10/site-packages (from ipywidgets) (5.14.1)\n",
      "Requirement already satisfied: jedi>=0.16 in /home/rslee/.local/lib/python3.10/site-packages (from ipython>=6.1.0->ipywidgets) (0.19.1)\n",
      "Requirement already satisfied: pygments>=2.4.0 in /home/rslee/.local/lib/python3.10/site-packages (from ipython>=6.1.0->ipywidgets) (2.17.2)\n",
      "Requirement already satisfied: decorator in /usr/lib/python3/dist-packages (from ipython>=6.1.0->ipywidgets) (4.4.2)\n",
      "Requirement already satisfied: pexpect>4.3 in /usr/lib/python3/dist-packages (from ipython>=6.1.0->ipywidgets) (4.8.0)\n",
      "Requirement already satisfied: prompt-toolkit<3.1.0,>=3.0.41 in /home/rslee/.local/lib/python3.10/site-packages (from ipython>=6.1.0->ipywidgets) (3.0.43)\n",
      "Requirement already satisfied: exceptiongroup in /home/rslee/.local/lib/python3.10/site-packages (from ipython>=6.1.0->ipywidgets) (1.2.0)\n",
      "Requirement already satisfied: matplotlib-inline in /home/rslee/.local/lib/python3.10/site-packages (from ipython>=6.1.0->ipywidgets) (0.1.6)\n",
      "Requirement already satisfied: stack-data in /home/rslee/.local/lib/python3.10/site-packages (from ipython>=6.1.0->ipywidgets) (0.6.3)\n",
      "Requirement already satisfied: parso<0.9.0,>=0.8.3 in /home/rslee/.local/lib/python3.10/site-packages (from jedi>=0.16->ipython>=6.1.0->ipywidgets) (0.8.3)\n",
      "Requirement already satisfied: wcwidth in /home/rslee/.local/lib/python3.10/site-packages (from prompt-toolkit<3.1.0,>=3.0.41->ipython>=6.1.0->ipywidgets) (0.2.13)\n",
      "Requirement already satisfied: pure-eval in /home/rslee/.local/lib/python3.10/site-packages (from stack-data->ipython>=6.1.0->ipywidgets) (0.2.2)\n",
      "Requirement already satisfied: asttokens>=2.1.0 in /home/rslee/.local/lib/python3.10/site-packages (from stack-data->ipython>=6.1.0->ipywidgets) (2.4.1)\n",
      "Requirement already satisfied: executing>=1.2.0 in /home/rslee/.local/lib/python3.10/site-packages (from stack-data->ipython>=6.1.0->ipywidgets) (2.0.1)\n",
      "Requirement already satisfied: six>=1.12.0 in /usr/lib/python3/dist-packages (from asttokens>=2.1.0->stack-data->ipython>=6.1.0->ipywidgets) (1.16.0)\n",
      "Note: you may need to restart the kernel to use updated packages.\n"
     ]
    }
   ],
   "source": [
    "%pip install ipywidgets\n",
    "from libpython.arcion_control import *    \n",
    "from libpython.ycsb_control import *    \n",
    "show_arcion_config()\n",
    "show_ycsb_config()"
   ]
  },
  {
   "cell_type": "code",
   "execution_count": 16,
   "metadata": {},
   "outputs": [
    {
     "name": "stdout",
     "output_type": "stream",
     "text": [
      "deltalake /opt/stage/libs/SparkJDBC42.jar found\n",
      "lakehouse  /opt/stage/libs/DatabricksJDBC42.jar found\n",
      "postgres  /opt/stage/libs/postgresql-42.7.1.jar found\n",
      "mariadb  /opt/stage/libs/mariadb-java-client-3.3.2.jar found\n",
      "oracle /opt/stage/libs/ojdbc8.jar found\n",
      "log4j /opt/stage/libs/log4j-1.2.17.jar found\n",
      "\n",
      "arcion  /opt/stage/arcion/replicant-cli/bin/replicant found\n",
      "checking jar(s) in /opt/stage/arcion/24.01.25.1/lib for updates\n",
      "checking jar(s) in /opt/stage/arcion/replicant-cli/lib for updates\n",
      "checking jar(s) in /opt/stage/arcion/replicate-cli-23.05.31.29/lib for updates\n",
      "checking jar(s) in /opt/stage/arcion/23.05.31.31/lib for updates\n",
      "checking jar(s) in /opt/stage/arcion/23.09.29.11/lib for updates\n",
      "\n",
      "YCSB  /opt/stage/ycsb/ycsb-jdbc-binding-0.18.0-SNAPSHOT  found\n",
      "checking jar(s) in /opt/stage/ycsb/ycsb-jdbc-binding-0.18.0-SNAPSHOT/lib for updates\n",
      "\n",
      "sqlserver found\n",
      "\n"
     ]
    }
   ],
   "source": [
    "import subprocess\n",
    "print (subprocess.run(\"bin/download-jars.sh\",stdout=subprocess.PIPE).stdout.decode('utf-8'))\n",
    "print (subprocess.run(\"bin/install-arcion.sh\",stdout=subprocess.PIPE).stdout.decode('utf-8'))\n",
    "print (subprocess.run(\"bin/install-ycsb.sh\",stdout=subprocess.PIPE).stdout.decode('utf-8'))\n",
    "print (subprocess.run(\"bin/install-sqlserver.sh\",stdout=subprocess.PIPE).stdout.decode('utf-8'))"
   ]
  },
  {
   "cell_type": "markdown",
   "metadata": {},
   "source": [
    "# Customize YCSB workload characteristics"
   ]
  },
  {
   "cell_type": "code",
   "execution_count": 15,
   "metadata": {},
   "outputs": [
    {
     "data": {
      "application/vnd.jupyter.widget-view+json": {
       "model_id": "5fff5674856a4516b0ddd9bdceeef9aa",
       "version_major": 2,
       "version_minor": 0
      },
      "text/plain": [
       "VBox(children=(HBox(children=(Label(value='Sparse'), BoundedIntText(value=1, description='Instances:', min=1),…"
      ]
     },
     "execution_count": 15,
     "metadata": {},
     "output_type": "execute_result"
    }
   ],
   "source": [
    "from libpython.ycsb_control import *    \n",
    "VBox([HBox([Label('Sparse'), sparse_cnt, sparse_fields, sparse_field_len]),\n",
    "    HBox([Label('Dense'),  dense_cnt,  dense_fields, dense_field_len])])"
   ]
  },
  {
   "cell_type": "markdown",
   "metadata": {},
   "source": [
    "## Create SQL Server user, create and load YCSB data sets"
   ]
  },
  {
   "cell_type": "code",
   "execution_count": 6,
   "metadata": {},
   "outputs": [
    {
     "name": "stdout",
     "output_type": "stream",
     "text": [
      "3\n"
     ]
    },
    {
     "name": "stderr",
     "output_type": "stream",
     "text": [
      "\n",
      "real\t0m0.119s\n",
      "user\t0m0.082s\n",
      "sys\t0m0.020s\n"
     ]
    },
    {
     "name": "stdout",
     "output_type": "stream",
     "text": [
      "replicant\n",
      "24.01.25.1 24.01\n",
      "PATH=/opt/stage/bin/jsqsh-dist-3.0-SNAPSHOT/bin added\n",
      "Msg 15025, Level 16, State 1, Server ron, Line 2\n",
      "The server principal 'arcsrc' already exists.\n",
      "Msg 1801, Level 16, State 3, Server ron, Line 1\n",
      "Database 'arcsrc' already exists. Choose a different database name.\n",
      "Changed database context to 'arcsrc'.\n",
      "Msg 15023, Level 16, State 5, Server ron, Line 1\n",
      "User, group, or role 'arcsrc' already exists in the current database.\n",
      "Starting dense table 1\n",
      "CREATE TABLE YCSBDENSE (\n",
      "\tYCSB_KEY INT,\n",
      "\tFIELD0 TEXT, FIELD1 TEXT,\n",
      "\tFIELD2 TEXT, FIELD3 TEXT,\n",
      "\tFIELD4 TEXT, FIELD5 TEXT,\n",
      "\tFIELD6 TEXT, FIELD7 TEXT,\n",
      "\tFIELD8 TEXT, FIELD9 TEXT,\n",
      "\tPRIMARY KEY (YCSB_KEY)\n",
      ")\n",
      "go\n",
      "Msg 2714, Level 16, State 6, Server ron, Line 2\n",
      "There is already an object named 'YCSBDENSE' in the database.\n",
      "14.0\n",
      "11\n",
      "1       SQLCHAR             0       12      \",\"    1     YCSB_KEY                             \"\"\n",
      "2       SQLCHAR             0       0       \",\"    2     FIELD0                               SQL_Latin1_General_CP1_CI_AS\n",
      "3       SQLCHAR             0       0       \",\"    3     FIELD1                               SQL_Latin1_General_CP1_CI_AS\n",
      "4       SQLCHAR             0       0       \",\"    4     FIELD2                               SQL_Latin1_General_CP1_CI_AS\n",
      "5       SQLCHAR             0       0       \",\"    5     FIELD3                               SQL_Latin1_General_CP1_CI_AS\n",
      "6       SQLCHAR             0       0       \",\"    6     FIELD4                               SQL_Latin1_General_CP1_CI_AS\n",
      "7       SQLCHAR             0       0       \",\"    7     FIELD5                               SQL_Latin1_General_CP1_CI_AS\n",
      "8       SQLCHAR             0       0       \",\"    8     FIELD6                               SQL_Latin1_General_CP1_CI_AS\n",
      "9       SQLCHAR             0       0       \",\"    9     FIELD7                               SQL_Latin1_General_CP1_CI_AS\n",
      "10      SQLCHAR             0       0       \",\"    10    FIELD8                               SQL_Latin1_General_CP1_CI_AS\n",
      "11      SQLCHAR             0       0       \"\\n\"   11    FIELD9                               SQL_Latin1_General_CP1_CI_AS\n",
      "\n",
      "Starting copy...\n",
      "SQLState = 23000, NativeError = 2627\n",
      "Error = [Microsoft][ODBC Driver 18 for SQL Server][SQL Server]Violation of PRIMARY KEY constraint 'PK__YCSBDENS__D9AD0786D0355672'. Cannot insert duplicate key in object 'dbo.YCSBDENSE'. The duplicate key value is (0).\n",
      "SQLState = 01000, NativeError = 3621\n",
      "Warning = [Microsoft][ODBC Driver 18 for SQL Server][SQL Server]The statement has been terminated.\n",
      "\n",
      "BCP copy in failed\n",
      "Finished dense table 1\n",
      "Starting sparse table 1\n",
      "CREATE TABLE YCSBSPARSE (\n",
      "\tYCSB_KEY INT,\n",
      "\tFIELD0 TEXT null, FIELD1 TEXT null,\n",
      "\tFIELD2 TEXT null, FIELD3 TEXT null,\n",
      "\tFIELD4 TEXT null, FIELD5 TEXT null,\n",
      "\tFIELD6 TEXT null, FIELD7 TEXT null,\n",
      "\tFIELD8 TEXT null, FIELD9 TEXT null,\n",
      "\tPRIMARY KEY (YCSB_KEY)\n",
      ")\n",
      "go\n",
      "Msg 2714, Level 16, State 6, Server ron, Line 2\n",
      "There is already an object named 'YCSBSPARSE' in the database.\n",
      "14.0\n",
      "1\n",
      "1       SQLCHAR             0       12      \"\\n\"    1     YCSB_KEY                             \"\"\n",
      "\n",
      "\n",
      "Starting copy...\n",
      "SQLState = 23000, NativeError = 2627\n",
      "Error = [Microsoft][ODBC Driver 18 for SQL Server][SQL Server]Violation of PRIMARY KEY constraint 'PK__YCSBSPAR__D9AD078689601AA5'. Cannot insert duplicate key in object 'dbo.YCSBSPARSE'. The duplicate key value is (0).\n",
      "SQLState = 01000, NativeError = 3621\n",
      "Warning = [Microsoft][ODBC Driver 18 for SQL Server][SQL Server]The statement has been terminated.\n",
      "\n",
      "BCP copy in failed\n",
      "Finished sparse table 1\n",
      "\n"
     ]
    },
    {
     "name": "stderr",
     "output_type": "stream",
     "text": [
      "\n",
      "real\t0m0.196s\n",
      "user\t0m0.143s\n",
      "sys\t0m0.004s\n"
     ]
    }
   ],
   "source": [
    "import subprocess\n",
    "print (sparse_cnt.value)\n",
    "\n",
    "print (subprocess.run(\"\"\". ./demo/sqlserver/run-ycsb-sqlserver-source.sh; \n",
    "    create_user;\n",
    "    load_dense_data;\n",
    "    load_sparse_data\"\"\",\n",
    "    shell=True,executable=\"/usr/bin/bash\",stdout=subprocess.PIPE).stdout.decode('utf-8'))\n"
   ]
  },
  {
   "cell_type": "markdown",
   "metadata": {},
   "source": [
    "# Run YCSB and Arcion in the background"
   ]
  },
  {
   "cell_type": "markdown",
   "metadata": {},
   "source": [
    "## Start/Restart YCSB workload at 1 TPS\n",
    "1. Adjust the TPS (throughput per second) via the UI\n",
    "   1. 0=fast as possible\n",
    "   2. 1=1 TPS\n",
    "   3. 10=10 TPS\n",
    "2. Run YCSB for sparse and dense tables"
   ]
  },
  {
   "cell_type": "code",
   "execution_count": 14,
   "metadata": {},
   "outputs": [
    {
     "data": {
      "application/vnd.jupyter.widget-view+json": {
       "model_id": "94589196b7874bb8bb6b1e9b5424584a",
       "version_major": 2,
       "version_minor": 0
      },
      "text/plain": [
       "VBox(children=(HBox(children=(Label(value='Sparse'), BoundedIntText(value=1, description='TPS:', max=1000), Bo…"
      ]
     },
     "execution_count": 14,
     "metadata": {},
     "output_type": "execute_result"
    }
   ],
   "source": [
    "from libpython.ycsb_control import *    \n",
    "VBox([HBox([Label('Sparse'), sparse_tps, sparse_threads]), HBox([Label('Dense'),  dense_tps, dense_threads])])"
   ]
  },
  {
   "cell_type": "code",
   "execution_count": 21,
   "metadata": {},
   "outputs": [
    {
     "name": "stdout",
     "output_type": "stream",
     "text": [
      "replicant\n",
      "24.01.25.1 24.01\n",
      "PATH=/opt/stage/bin/jsqsh-dist-3.0-SNAPSHOT/bin added\n",
      "dense\n",
      "ycsb dense pid 210365\n",
      "ycsb dense log is at /home/rslee/github/dbx/ingestion/demo/sqlserver/logs/ycsb.dense.log\n",
      "ycsb dense can be killed with . ./demo/sqlserver/run-ycsb-sqlserver-source.sh; kill_recurse $(cat $PROG_DIR/logs/ycsb.dense.pid)\n",
      "sparse\n",
      "ycsb sparse pid 210369\n",
      "ycsb sparse log is at /home/rslee/github/dbx/ingestion/demo/sqlserver/logs/ycsb.sparse.log\n",
      "ycsb sparse can be killed with . ./demo/sqlserver/run-ycsb-sqlserver-source.sh; kill_recurse $(cat $PROG_DIR/logs/ycsb.sparse.pid)\n",
      "\n"
     ]
    }
   ],
   "source": [
    "import subprocess\n",
    "from libpython.ycsb_control import *    \n",
    "\n",
    "# print(f\"y_target_sparse={sparse_tps.value} y_target_dense={dense_tps.value} y_threads_sparse={sparse_threads.value} y_threads_dense={dense_threads.value}\")\n",
    "print (subprocess.run(f\"\"\". ./demo/sqlserver/run-ycsb-sqlserver-source.sh; \n",
    "    kill_ycsb;\n",
    "    y_target_sparse={sparse_tps.value} y_target_dense={dense_tps.value} y_threads_sparse={sparse_threads.value} y_threads_dense={dense_threads.value} start_ycsb;\"\"\",\n",
    "    shell=True,executable=\"/usr/bin/bash\",stdout=subprocess.PIPE).stdout.decode('utf-8'))"
   ]
  },
  {
   "cell_type": "markdown",
   "metadata": {},
   "source": [
    "## Start Arcion"
   ]
  },
  {
   "cell_type": "code",
   "execution_count": 23,
   "metadata": {
    "tags": []
   },
   "outputs": [
    {
     "data": {
      "application/vnd.jupyter.widget-view+json": {
       "model_id": "21359965efc749a497d210c237b0fc5f",
       "version_major": 2,
       "version_minor": 0
      },
      "text/plain": [
       "HBox(children=(Label(value='Arcion'), Dropdown(description='Replication:', options=('snapshot', 'real-time', '…"
      ]
     },
     "execution_count": 23,
     "metadata": {},
     "output_type": "execute_result"
    }
   ],
   "source": [
    "HBox([Label('Arcion'), repl_mode, cdc_mode])"
   ]
  },
  {
   "cell_type": "code",
   "execution_count": 17,
   "metadata": {},
   "outputs": [
    {
     "name": "stdout",
     "output_type": "stream",
     "text": [
      "change snapshot\n",
      "replicant\n",
      "24.01.25.1 24.01\n",
      "PATH=/opt/stage/bin/jsqsh-dist-3.0-SNAPSHOT/bin added\n",
      "/home/rslee/github/dbx/ingestion/demo/sqlserver\n",
      "replicant\n",
      "arcion pid 181597\n",
      "arcion log is at /home/rslee/github/dbx/ingestion/demo/sqlserver/logs/arcion.log\n",
      "arcion can be killed with . ./demo/sqlserver/run-ycsb-sqlserver-source.sh; kill_recurse $(cat $PROG_DIR/logs/arcion.pid)\n",
      "\n"
     ]
    }
   ],
   "source": [
    "import subprocess\n",
    "\n",
    "print (f\"\"\"{cdc_mode.value} {repl_mode.value}\"\"\")\n",
    "\n",
    "print (subprocess.run(f\"\"\". ./demo/sqlserver/run-ycsb-sqlserver-source.sh; \n",
    "    echo $PROG_DIR;\n",
    "    cd $PROG_DIR;\n",
    "    kill_arcion;\n",
    "    a_repltype={repl_mode.value} start_{cdc_mode.value}_arcion;\"\"\",\n",
    "    shell=True,executable=\"/usr/bin/bash\",stdout=subprocess.PIPE).stdout.decode('utf-8'))\n"
   ]
  },
  {
   "cell_type": "code",
   "execution_count": 9,
   "metadata": {},
   "outputs": [
    {
     "ename": "NameError",
     "evalue": "name 'spark' is not defined",
     "output_type": "error",
     "traceback": [
      "\u001b[0;31m---------------------------------------------------------------------------\u001b[0m",
      "\u001b[0;31mNameError\u001b[0m                                 Traceback (most recent call last)",
      "Cell \u001b[0;32mIn[9], line 1\u001b[0m\n\u001b[0;32m----> 1\u001b[0m cluster_id \u001b[38;5;241m=\u001b[39m \u001b[43mspark\u001b[49m\u001b[38;5;241m.\u001b[39mconf\u001b[38;5;241m.\u001b[39mget(\u001b[38;5;124m\"\u001b[39m\u001b[38;5;124mspark.databricks.clusterUsageTags.clusterId\u001b[39m\u001b[38;5;124m\"\u001b[39m)\n\u001b[1;32m      3\u001b[0m workspace_id \u001b[38;5;241m=\u001b[39mspark\u001b[38;5;241m.\u001b[39mconf\u001b[38;5;241m.\u001b[39mget(\u001b[38;5;124m\"\u001b[39m\u001b[38;5;124mspark.databricks.clusterUsageTags.clusterOwnerOrgId\u001b[39m\u001b[38;5;124m\"\u001b[39m)\n\u001b[1;32m      5\u001b[0m \u001b[38;5;66;03m# clusterName = spark.conf.get(\"spark.databricks.clusterUsageTags.clusterName\")\u001b[39;00m\n",
      "\u001b[0;31mNameError\u001b[0m: name 'spark' is not defined"
     ]
    }
   ],
   "source": [
    "\n",
    "cluster_id = spark.conf.get(\"spark.databricks.clusterUsageTags.clusterId\")\n",
    "\n",
    "workspace_id =spark.conf.get(\"spark.databricks.clusterUsageTags.clusterOwnerOrgId\")\n",
    "\n",
    "# clusterName = spark.conf.get(\"spark.databricks.clusterUsageTags.clusterName\")\n",
    "\n",
    "workspaceUrl = spark.conf.get(\"spark.databricks.workspaceUrl\") # host name\n",
    "\n",
    "http_path = f\"sql/protocolv1/o/{workspace_id}/{cluster_id}\"\n",
    "\n",
    "spark_url=f\"jdbc:spark://{workspaceUrl}:443/default;transportMode=http;ssl=1;httpPath={http_path};AuthMech=3\"\n",
    "databricks_url=f\"jdbc:databricks://{workspaceUrl}:443/default;transportMode=http;ssl=1;httpPath={http_path};AuthMech=3\""
   ]
  }
 ],
 "metadata": {
  "kernelspec": {
   "display_name": "Python 3",
   "language": "python",
   "name": "python3"
  },
  "language_info": {
   "codemirror_mode": {
    "name": "ipython",
    "version": 3
   },
   "file_extension": ".py",
   "mimetype": "text/x-python",
   "name": "python",
   "nbconvert_exporter": "python",
   "pygments_lexer": "ipython3",
   "version": "3.10.12"
  }
 },
 "nbformat": 4,
 "nbformat_minor": 2
}
