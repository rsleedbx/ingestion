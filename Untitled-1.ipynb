{
 "cells": [
  {
   "cell_type": "markdown",
   "metadata": {},
   "source": [
    "Install Arcion, YCSB and SQL Server"
   ]
  },
  {
   "cell_type": "code",
   "execution_count": 1,
   "metadata": {},
   "outputs": [
    {
     "name": "stdout",
     "output_type": "stream",
     "text": [
      "sqlserver found\n",
      "\n"
     ]
    }
   ],
   "source": [
    "import subprocess\n",
    "#print (subprocess.run(\"bin/download-jars.sh\",stdout=subprocess.PIPE).stdout.decode('utf-8'))\n",
    "#print (subprocess.run(\"bin/install-arcion.sh\",stdout=subprocess.PIPE).stdout.decode('utf-8'))\n",
    "#print (subprocess.run(\"bin/install-ycsb.sh\",stdout=subprocess.PIPE).stdout.decode('utf-8'))\n",
    "#print (subprocess.run(\"bin/install-sqlserver.sh\",stdout=subprocess.PIPE).stdout.decode('utf-8'))"
   ]
  },
  {
   "cell_type": "markdown",
   "metadata": {},
   "source": [
    "Create SQL Server user, create and load YCSB data sets"
   ]
  },
  {
   "cell_type": "code",
   "execution_count": null,
   "metadata": {},
   "outputs": [],
   "source": [
    "import subprocess\n",
    "print (subprocess.run(\"\"\". ./demo/sqlserver/run-ycsb-sqlserver-source.sh; \n",
    "    create_user;\n",
    "    load_dense_data;\n",
    "    load_sparse_data\"\"\",\n",
    "    shell=True,executable=\"/usr/bin/bash\",stdout=subprocess.PIPE).stdout.decode('utf-8'))\n"
   ]
  },
  {
   "cell_type": "markdown",
   "metadata": {},
   "source": [
    "Run YCSB workload at 1 TPS"
   ]
  },
  {
   "cell_type": "code",
   "execution_count": 15,
   "metadata": {},
   "outputs": [],
   "source": [
    "import os\n",
    "import signal\n",
    "import psutil\n",
    "def kill_proc_tree(pid, sig=signal.SIGTERM, include_parent=True,\n",
    "                   timeout=None, on_terminate=None):\n",
    "    \"\"\"Kill a process tree (including grandchildren) with signal\n",
    "    \"sig\" and return a (gone, still_alive) tuple.\n",
    "    \"on_terminate\", if specified, is a callback function which is\n",
    "    called as soon as a child terminates.\n",
    "    \"\"\"\n",
    "    assert pid != os.getpid(), \"won't kill myself\"\n",
    "    parent = psutil.Process(pid)\n",
    "    children = parent.children(recursive=True)\n",
    "    if include_parent:\n",
    "        children.append(parent)\n",
    "    for p in children:\n",
    "        try:\n",
    "            p.send_signal(sig)\n",
    "        except psutil.NoSuchProcess:\n",
    "            pass\n",
    "    gone, alive = psutil.wait_procs(children, timeout=timeout,\n",
    "                                    callback=on_terminate)\n",
    "    for p in alive:\n",
    "        p.kill()\n",
    "\n",
    "def kill_ycsb_proc_tree(name=\"ycsb.sh\"):\n",
    "    for p in psutil.process_iter(['name', 'username']):\n",
    "        if p.info['username'] == getpass.getuser() and p.info['name'] == 'ycsb.sh':\n",
    "            print(f\"Killing {p.pid} {p.info['name']}\")\n",
    "            kill_proc_tree(p.pid)\n"
   ]
  },
  {
   "cell_type": "code",
   "execution_count": 16,
   "metadata": {},
   "outputs": [
    {
     "name": "stdout",
     "output_type": "stream",
     "text": [
      "Killing 607374 ycsb.sh\n",
      "replicant\n",
      "24.01.25.1 24.01\n",
      "PATH=/opt/stage/bin/jsqsh-dist-3.0-SNAPSHOT/bin added\n",
      "ycsb pid 607524\n",
      "ycsb log is at /home/rslee/github/dbx/ingestion/demo/sqlserver/logs/ycsb.log\n",
      "ycsb can be killed with . ./demo/sqlserver/run-ycsb-sqlserver-source.sh; kill_recurse $(cat $PROG_DIR/logs/ycsb.pid)\n",
      "\n"
     ]
    }
   ],
   "source": [
    "import subprocess\n",
    "from pathlib import Path\n",
    "import psutil\n",
    "\n",
    "# kill currently running ycsb.sh\n",
    "kill_ycsb_proc_tree()\n",
    "\n",
    "print (subprocess.run(\"\"\". ./demo/sqlserver/run-ycsb-sqlserver-source.sh; \n",
    "    start_ycsb;\"\"\",\n",
    "    shell=True,executable=\"/usr/bin/bash\",stdout=subprocess.PIPE).stdout.decode('utf-8'))"
   ]
  },
  {
   "cell_type": "code",
   "execution_count": 23,
   "metadata": {},
   "outputs": [
    {
     "name": "stdout",
     "output_type": "stream",
     "text": [
      "replicant\n",
      "24.01.25.1 24.01\n",
      "PATH=/opt/stage/bin/jsqsh-dist-3.0-SNAPSHOT/bin added\n",
      "/home/rslee/github/dbx/ingestion/demo/sqlserver\n",
      "\n"
     ]
    }
   ],
   "source": [
    "import subprocess\n",
    "print (subprocess.run(\"\"\". ./demo/sqlserver/run-ycsb-sqlserver-source.sh; \n",
    "    echo $PROG_DIR;\n",
    "    pwd;\n",
    "    cd demo/sqlserver;                  \n",
    "    #start_arcion snapshot;\"\"\",\n",
    "    shell=True,executable=\"/usr/bin/bash\",stdout=subprocess.PIPE).stdout.decode('utf-8'))\n"
   ]
  }
 ],
 "metadata": {
  "kernelspec": {
   "display_name": "Python 3",
   "language": "python",
   "name": "python3"
  },
  "language_info": {
   "codemirror_mode": {
    "name": "ipython",
    "version": 3
   },
   "file_extension": ".py",
   "mimetype": "text/x-python",
   "name": "python",
   "nbconvert_exporter": "python",
   "pygments_lexer": "ipython3",
   "version": "3.10.12"
  }
 },
 "nbformat": 4,
 "nbformat_minor": 2
}
